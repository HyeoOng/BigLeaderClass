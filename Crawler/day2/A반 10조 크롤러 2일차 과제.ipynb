{
 "cells": [
  {
   "cell_type": "markdown",
   "metadata": {},
   "source": [
    "사용자로부터 검색어와 검색 건수를 입력 받아 네이버 블로그에서 검색한 결과 중 제목만 추출해서 저장하는 코드를 완성하시오"
   ]
  },
  {
   "cell_type": "code",
   "execution_count": 1,
   "metadata": {},
   "outputs": [],
   "source": [
    "from bs4 import BeautifulSoup\n",
    "from selenium import webdriver\n",
    "from selenium.webdriver.common.keys import Keys\n",
    "from selenium.webdriver.common.by import By\n",
    "import urllib.request\n",
    "import time, os"
   ]
  },
  {
   "cell_type": "code",
   "execution_count": 11,
   "metadata": {},
   "outputs": [
    {
     "name": "stdout",
     "output_type": "stream",
     "text": [
      "[<a class=\"api_txt_lines total_tit\" href=\"https://blog.naver.com/dodentjfl/223147953787\" onclick=\"return goOtherCR(this, 'a=blg*a.iblg&amp;r=1&amp;i=90000003_0000000000000033F4A78E7B&amp;u='+urlencode(this.href))\" target=\"_blank\">싱가포르 <mark>여행</mark> 비용 ! 경비 아끼는 팁은 덤</a>, <a class=\"api_txt_lines total_tit\" href=\"https://blog.naver.com/sanaella/223148329126\" onclick=\"return goOtherCR(this, 'a=blg*a.iblg&amp;r=2&amp;i=90000003_0000000000000033F4AD48A6&amp;u='+urlencode(this.href))\" target=\"_blank\">사이판 골프<mark>여행</mark> 코랄오션 골프장 후기</a>, <a class=\"api_txt_lines total_tit\" href=\"https://blog.naver.com/tcacyc/223145359169\" onclick=\"return goOtherCR(this, 'a=blg*a.iblg&amp;r=3&amp;i=90000003_0000000000000033F47FF741&amp;u='+urlencode(this.href))\" target=\"_blank\">태국 푸켓 <mark>여행</mark> 동남아 <mark>여행</mark>지 추천</a>, <a class=\"api_txt_lines total_tit\" href=\"https://blog.naver.com/cham4lang1/223147490217\" onclick=\"return goOtherCR(this, 'a=blg*a.iblg&amp;r=4&amp;i=90000003_0000000000000033F4A07BA9&amp;u='+urlencode(this.href))\" target=\"_blank\">포르투갈 리스본 &amp; 포르투 <mark>여행</mark> 알차게 다녀온 2주</a>, <a class=\"api_txt_lines total_tit\" href=\"https://blog.naver.com/luvxox/223147997291\" onclick=\"return goOtherCR(this, 'a=blg*a.iblg&amp;r=5&amp;i=90000003_0000000000000033F4A8386B&amp;u='+urlencode(this.href))\" target=\"_blank\">사이판 <mark>여행</mark> 3박4일 자유<mark>여행</mark> 일정 날씨</a>, <a class=\"api_txt_lines total_tit\" href=\"https://blog.naver.com/nau2001/223143922062\" onclick=\"return goOtherCR(this, 'a=blg*a.iblg&amp;r=6&amp;i=90000003_0000000000000033F46A098E&amp;u='+urlencode(this.href))\" target=\"_blank\">다낭 가족<mark>여행</mark> 코스 다낭 렌트카 레드투어 예약 후기</a>, <a class=\"api_txt_lines total_tit\" href=\"https://blog.naver.com/junstar1010/223147585933\" onclick=\"return goOtherCR(this, 'a=blg*a.iblg&amp;r=7&amp;i=90000003_0000000000000033F4A1F18D&amp;u='+urlencode(this.href))\" target=\"_blank\">이탈리아 패키지<mark>여행</mark> 베네치아 관광 후기 &amp; 볼거리</a>, <a class=\"api_txt_lines total_tit\" href=\"https://blog.naver.com/sticky4/223145157684\" onclick=\"return goOtherCR(this, 'a=blg*a.iblg&amp;r=8&amp;i=90000003_0000000000000033F47CE434&amp;u='+urlencode(this.href))\" target=\"_blank\">친구랑 유럽자유<mark>여행</mark> 중 비엔나 <mark>여행</mark>!(벨베데레 궁전)</a>, <a class=\"api_txt_lines total_tit\" href=\"https://blog.naver.com/hug387/223146937415\" onclick=\"return goOtherCR(this, 'a=blg*a.iblg&amp;r=9&amp;i=90000003_0000000000000033F4980C47&amp;u='+urlencode(this.href))\" target=\"_blank\">필리핀 세부패키지 <mark>여행</mark> 현지<mark>여행</mark>사 가이드맨 후기!</a>, <a class=\"api_txt_lines total_tit\" href=\"https://blog.naver.com/csn324/223147456782\" onclick=\"return goOtherCR(this, 'a=blg*a.iblg&amp;r=10&amp;i=90000003_0000000000000033F49FF90E&amp;u='+urlencode(this.href))\" target=\"_blank\">호이안 <mark>여행</mark> 꼭 가봐야할 4장소 알려드림</a>, <a class=\"api_txt_lines total_tit\" href=\"https://blog.naver.com/qkrgkdms1993/223148839018\" onclick=\"return goOtherCR(this, 'a=blg*a.iblg&amp;r=11&amp;i=90000003_0000000000000033F4B5106A&amp;u='+urlencode(this.href))\" target=\"_blank\">일본 오사카 혼자 <mark>여행</mark> 준비 돈단위 엔화 환전</a>, <a class=\"api_txt_lines total_tit\" href=\"https://blog.naver.com/minekooo/223147158798\" onclick=\"return goOtherCR(this, 'a=blg*a.iblg&amp;r=12&amp;i=90000003_0000000000000033F49B6D0E&amp;u='+urlencode(this.href))\" target=\"_blank\">다낭 렌트카 가족 <mark>여행</mark> 코스 가볼만한곳 추천</a>, <a class=\"api_txt_lines total_tit\" href=\"https://blog.naver.com/jamjma98/223148204509\" onclick=\"return goOtherCR(this, 'a=blg*a.iblg&amp;r=13&amp;i=90000003_0000000000000033F4AB61DD&amp;u='+urlencode(this.href))\" target=\"_blank\">베트남 나트랑 자유<mark>여행</mark> 후기 공항픽업 팁</a>, <a class=\"api_txt_lines total_tit\" href=\"https://blog.naver.com/hjk8427_/223147635706\" onclick=\"return goOtherCR(this, 'a=blg*a.iblg&amp;r=14&amp;i=90000003_0000000000000033F4A2B3FA&amp;u='+urlencode(this.href))\" target=\"_blank\">세부 3박4일 패키지 <mark>여행</mark> 단독투어 일정과 후기</a>, <a class=\"api_txt_lines total_tit\" href=\"https://blog.naver.com/powerofguy2/223146766608\" onclick=\"return goOtherCR(this, 'a=blg*a.iblg&amp;r=15&amp;i=90000003_0000000000000033F4957110&amp;u='+urlencode(this.href))\" target=\"_blank\">2030끼리 전용차량 타고 떠나는 유럽패키지<mark>여행</mark> 후기!</a>, <a class=\"api_txt_lines total_tit\" href=\"https://blog.naver.com/tcacyc/223140853679\" onclick=\"return goOtherCR(this, 'a=blg*a.iblg&amp;r=16&amp;i=90000003_0000000000000033F43B37AF&amp;u='+urlencode(this.href))\" target=\"_blank\">제주 <mark>여행</mark> 코스 핫플 제주도 관광지</a>, <a class=\"api_txt_lines total_tit\" href=\"https://blog.naver.com/cham4lang1/223147090540\" onclick=\"return goOtherCR(this, 'a=blg*a.iblg&amp;r=17&amp;i=90000003_0000000000000033F49A626C&amp;u='+urlencode(this.href))\" target=\"_blank\">유럽<mark>여행</mark> 또래들과 함께한 유럽세미패키지</a>, <a class=\"api_txt_lines total_tit\" href=\"https://blog.naver.com/danzzak78/223146981249\" onclick=\"return goOtherCR(this, 'a=blg*a.iblg&amp;r=18&amp;i=90000003_0000000000000033F498B781&amp;u='+urlencode(this.href))\" target=\"_blank\">보라카이 자유 <mark>여행</mark> 꼭 가야하는 명소 디몰</a>, <a class=\"api_txt_lines total_tit\" href=\"https://blog.naver.com/mintchoco724/223147678196\" onclick=\"return goOtherCR(this, 'a=blg*a.iblg&amp;r=19&amp;i=90000003_0000000000000033F4A359F4&amp;u='+urlencode(this.href))\" target=\"_blank\">흐려도 좋아, 통영<mark>여행</mark> 맨발의 &lt;나폴리농원&gt;</a>, <a class=\"api_txt_lines total_tit\" href=\"https://blog.naver.com/rockbeertravel/223147927216\" onclick=\"return goOtherCR(this, 'a=blg*a.iblg&amp;r=20&amp;i=90000003_0000000000000033F4A726B0&amp;u='+urlencode(this.href))\" target=\"_blank\">태국 푸켓 항공권 직항 : 대한항공 타고 끄라비 <mark>여행</mark></a>, <a class=\"api_txt_lines total_tit\" href=\"https://blog.naver.com/moliere75/223147112564\" onclick=\"return goOtherCR(this, 'a=blg*a.iblg&amp;r=21&amp;i=90000003_0000000000000033F49AB874&amp;u='+urlencode(this.href))\" target=\"_blank\">몽골 <mark>여행</mark> - 고비사막 6박 7일 일정 및 견적</a>, <a class=\"api_txt_lines total_tit\" href=\"https://blog.naver.com/sticky4/223145167372\" onclick=\"return goOtherCR(this, 'a=blg*a.iblg&amp;r=22&amp;i=90000003_0000000000000033F47D0A0C&amp;u='+urlencode(this.href))\" target=\"_blank\">꼭 챙겨야하는 미국 <mark>여행</mark> 준비물!(+ 할인정보)</a>, <a class=\"api_txt_lines total_tit\" href=\"https://blog.naver.com/csn324/223144329457\" onclick=\"return goOtherCR(this, 'a=blg*a.iblg&amp;r=23&amp;i=90000003_0000000000000033F47040F1&amp;u='+urlencode(this.href))\" target=\"_blank\">보홀 자유<mark>여행</mark> 공항픽업 숙소까지 한번에 OK</a>, <a class=\"api_txt_lines total_tit\" href=\"https://blog.naver.com/overroad89/223142248039\" onclick=\"return goOtherCR(this, 'a=blg*a.iblg&amp;r=24&amp;i=90000003_0000000000000033F4507E67&amp;u='+urlencode(this.href))\" target=\"_blank\">국내 기차 <mark>여행</mark> 추천 남도해양열차 전라선 이용 후기</a>, <a class=\"api_txt_lines total_tit\" href=\"https://blog.naver.com/msjh1012/223148025891\" onclick=\"return goOtherCR(this, 'a=blg*a.iblg&amp;r=25&amp;i=90000003_0000000000000033F4A8A823&amp;u='+urlencode(this.href))\" target=\"_blank\">필리핀 세부 <mark>여행</mark> 중 우기 날씨 옷차림 준비물</a>, <a class=\"api_txt_lines total_tit\" href=\"https://blog.naver.com/laeda/223148426772\" onclick=\"return goOtherCR(this, 'a=blg*a.iblg&amp;r=26&amp;i=90000003_0000000000000033F4AEC614&amp;u='+urlencode(this.href))\" target=\"_blank\">다낭 골프장 호이안 리조트에서 베트남 자유<mark>여행</mark>으로</a>, <a class=\"api_txt_lines total_tit\" href=\"https://blog.naver.com/wlsgml850/223147060377\" onclick=\"return goOtherCR(this, 'a=blg*a.iblg&amp;r=27&amp;i=90000003_0000000000000033F499EC99&amp;u='+urlencode(this.href))\" target=\"_blank\">베트남 <mark>여행</mark> 준비물 7월 8월 푸꾸옥 날씨 우기 <mark>여행</mark> 일정</a>, <a class=\"api_txt_lines total_tit\" href=\"https://blog.naver.com/ssonda2002/223149058340\" onclick=\"return goOtherCR(this, 'a=blg*a.iblg&amp;r=28&amp;i=90000003_0000000000000033F4B86924&amp;u='+urlencode(this.href))\" target=\"_blank\">동강 펜션 리버스타 영월 가족<mark>여행</mark> 숙소 후기</a>, <a class=\"api_txt_lines total_tit\" href=\"https://blog.naver.com/cham4lang1/223147538403\" onclick=\"return goOtherCR(this, 'a=blg*a.iblg&amp;r=29&amp;i=90000003_0000000000000033F4A137E3&amp;u='+urlencode(this.href))\" target=\"_blank\">서유럽<mark>여행</mark> 패키지였지만 런던과 파리에선 자유롭게</a>, <a class=\"api_txt_lines total_tit\" href=\"https://blog.naver.com/tnwlsdl702/223148808860\" onclick=\"return goOtherCR(this, 'a=blg*a.iblg&amp;r=30&amp;i=90000003_0000000000000033F4B49A9C&amp;u='+urlencode(this.href))\" target=\"_blank\">괌 PIC 리조트 괌가족<mark>여행</mark> 추천 숙소 골드카드</a>, <a class=\"api_txt_lines total_tit\" href=\"https://blog.naver.com/plesure1014/223147702522\" onclick=\"return goOtherCR(this, 'a=blg*a.iblg&amp;r=31&amp;i=90000003_0000000000000033F4A3B8FA&amp;u='+urlencode(this.href))\" target=\"_blank\">보홀 알로나비치의 밤과 낮 <mark>여행</mark> 즐길 거리</a>, <a class=\"api_txt_lines total_tit\" href=\"https://blog.naver.com/daun1217/223148421820\" onclick=\"return goOtherCR(this, 'a=blg*a.iblg&amp;r=32&amp;i=90000003_0000000000000033F4AEB2BC&amp;u='+urlencode(this.href))\" target=\"_blank\">2박3일 일본<mark>여행</mark> 추천 지역</a>, <a class=\"api_txt_lines total_tit\" href=\"https://blog.naver.com/phantasma86/223148008227\" onclick=\"return goOtherCR(this, 'a=blg*a.iblg&amp;r=33&amp;i=90000003_0000000000000033F4A86323&amp;u='+urlencode(this.href))\" target=\"_blank\">바르셀로나 <mark>여행</mark> 여름 코스 가우디투어 날씨</a>, <a class=\"api_txt_lines total_tit\" href=\"https://blog.naver.com/easeclub1/223147308252\" onclick=\"return goOtherCR(this, 'a=blg*a.iblg&amp;r=34&amp;i=90000003_0000000000000033F49DB4DC&amp;u='+urlencode(this.href))\" target=\"_blank\">충남 가볼만한곳 서천 <mark>여행</mark> 최초 성경전래지기념관</a>, <a class=\"api_txt_lines total_tit\" href=\"https://blog.naver.com/wltn3292/223148222479\" onclick=\"return goOtherCR(this, 'a=blg*a.iblg&amp;r=35&amp;i=90000003_0000000000000033F4ABA80F&amp;u='+urlencode(this.href))\" target=\"_blank\">미국 <mark>여행</mark> 준비물 일본 110v 다이슨 에어랩</a>, <a class=\"api_txt_lines total_tit\" href=\"https://blog.naver.com/csn324/223148156242\" onclick=\"return goOtherCR(this, 'a=blg*a.iblg&amp;r=36&amp;i=90000003_0000000000000033F4AAA552&amp;u='+urlencode(this.href))\" target=\"_blank\">보홀<mark>여행</mark> 해산물 맛집 헤난 알로나비치 근처</a>, <a class=\"api_txt_lines total_tit\" href=\"https://blog.naver.com/powerofguy2/223148025547\" onclick=\"return goOtherCR(this, 'a=blg*a.iblg&amp;r=37&amp;i=90000003_0000000000000033F4A8A6CB&amp;u='+urlencode(this.href))\" target=\"_blank\">자유<mark>여행</mark>으로 떠나는 피렌체, 로마 <mark>여행</mark> 후기 &amp; 명소 공유</a>, <a class=\"api_txt_lines total_tit\" href=\"https://blog.naver.com/lovemw3/223147640944\" onclick=\"return goOtherCR(this, 'a=blg*a.iblg&amp;r=38&amp;i=90000003_0000000000000033F4A2C870&amp;u='+urlencode(this.href))\" target=\"_blank\">몽골 투어 경비 가격 + 몽골 <mark>여행</mark> 준비물</a>, <a class=\"api_txt_lines total_tit\" href=\"https://blog.naver.com/minekooo/223144951984\" onclick=\"return goOtherCR(this, 'a=blg*a.iblg&amp;r=39&amp;i=90000003_0000000000000033F479C0B0&amp;u='+urlencode(this.href))\" target=\"_blank\">몽골 <mark>여행</mark> 시기 고비사막 코스 준비물 체크!</a>, <a class=\"api_txt_lines total_tit\" href=\"https://blog.naver.com/hjk8427_/223149411977\" onclick=\"return goOtherCR(this, 'a=blg*a.iblg&amp;r=40&amp;i=90000003_0000000000000033F4BDCE89&amp;u='+urlencode(this.href))\" target=\"_blank\">영국 런던<mark>여행</mark> :: 런던가볼만한곳 리틀베니스</a>, <a class=\"api_txt_lines total_tit\" href=\"https://blog.naver.com/danzzak78/223147369914\" onclick=\"return goOtherCR(this, 'a=blg*a.iblg&amp;r=41&amp;i=90000003_0000000000000033F49EA5BA&amp;u='+urlencode(this.href))\" target=\"_blank\">영월 <mark>여행</mark>코스 가볼만한곳 잘 먹고 놀기</a>, <a class=\"api_txt_lines total_tit\" href=\"https://blog.naver.com/cham4lang1/223144603377\" onclick=\"return goOtherCR(this, 'a=blg*a.iblg&amp;r=42&amp;i=90000003_0000000000000033F4746EF1&amp;u='+urlencode(this.href))\" target=\"_blank\">북유럽 스웨덴 <mark>여행</mark>과 함께 오로라, 겨울액티비티까지!</a>, <a class=\"api_txt_lines total_tit\" href=\"https://blog.naver.com/bloomingjeju/223148304634\" onclick=\"return goOtherCR(this, 'a=blg*a.iblg&amp;r=43&amp;i=90000003_0000000000000033F4ACE8FA&amp;u='+urlencode(this.href))\" target=\"_blank\">제주도 <mark>여행</mark>선물은 중문 선물고팡 기념품샵</a>, <a class=\"api_txt_lines total_tit\" href=\"https://blog.naver.com/tnwlsdl702/223145389753\" onclick=\"return goOtherCR(this, 'a=blg*a.iblg&amp;r=44&amp;i=90000003_0000000000000033F4806EB9&amp;u='+urlencode(this.href))\" target=\"_blank\">파리<mark>여행</mark> 생트샤펠 성당 파리 가볼만한곳</a>, <a class=\"api_txt_lines total_tit\" href=\"https://blog.naver.com/lbmoon68/223148213404\" onclick=\"return goOtherCR(this, 'a=blg*a.iblg&amp;r=45&amp;i=90000003_0000000000000033F4AB849C&amp;u='+urlencode(this.href))\" target=\"_blank\">DMZ투어 강원도 고성<mark>여행</mark> DMZ박물관</a>, <a class=\"api_txt_lines total_tit\" href=\"https://blog.naver.com/monkey_dream/223143173476\" onclick=\"return goOtherCR(this, 'a=blg*a.iblg&amp;r=46&amp;i=90000003_0000000000000033F45E9D64&amp;u='+urlencode(this.href))\" target=\"_blank\">2023년 8월 성수기 태국 <mark>여행</mark> 가볼만한곳 아닐까요?</a>, <a class=\"api_txt_lines total_tit\" href=\"https://blog.naver.com/bom25bom/223145341319\" onclick=\"return goOtherCR(this, 'a=blg*a.iblg&amp;r=47&amp;i=90000003_0000000000000033F47FB187&amp;u='+urlencode(this.href))\" target=\"_blank\">뉴욕 버스투어 탑뷰 2층 버스 <mark>여행</mark> 코스</a>, <a class=\"api_txt_lines total_tit\" href=\"https://blog.naver.com/80sunjin/223148064921\" onclick=\"return goOtherCR(this, 'a=blg*a.iblg&amp;r=48&amp;i=90000003_0000000000000033F4A94099&amp;u='+urlencode(this.href))\" target=\"_blank\">도쿄 자유<mark>여행</mark>코스 가볼만한곳 요요기공원</a>, <a class=\"api_txt_lines total_tit\" href=\"https://blog.naver.com/csn324/223145485896\" onclick=\"return goOtherCR(this, 'a=blg*a.iblg&amp;r=49&amp;i=90000003_0000000000000033F481E648&amp;u='+urlencode(this.href))\" target=\"_blank\">나트랑<mark>여행</mark> 달랏<mark>여행</mark> 당일투어 알차닷</a>, <a class=\"api_txt_lines total_tit\" href=\"https://blog.naver.com/mina860527/223147691150\" onclick=\"return goOtherCR(this, 'a=blg*a.iblg&amp;r=50&amp;i=90000003_0000000000000033F4A38C8E&amp;u='+urlencode(this.href))\" target=\"_blank\">아고다 7월 할인코드 저렴하게 <mark>여행</mark> 준비 완료</a>, <a class=\"api_txt_lines total_tit\" href=\"https://blog.naver.com/roue2/223147601602\" onclick=\"return goOtherCR(this, 'a=blg*a.iblg&amp;r=51&amp;i=90000003_0000000000000033F4A22EC2&amp;u='+urlencode(this.href))\" target=\"_blank\">부산출발괌 패키지 <mark>여행</mark></a>, <a class=\"api_txt_lines total_tit\" href=\"https://blog.naver.com/hnmh2332/223147074679\" onclick=\"return goOtherCR(this, 'a=blg*a.iblg&amp;r=52&amp;i=90000003_0000000000000033F49A2477&amp;u='+urlencode(this.href))\" target=\"_blank\">거제도 가볼만한곳 거제 <mark>여행</mark> 코스 거제도 볼거리</a>, <a class=\"api_txt_lines total_tit\" href=\"https://blog.naver.com/phm8739/223147776664\" onclick=\"return goOtherCR(this, 'a=blg*a.iblg&amp;r=53&amp;i=90000003_0000000000000033F4A4DA98&amp;u='+urlencode(this.href))\" target=\"_blank\">다낭 <mark>여행</mark>코스 챙기면서 자유<mark>여행</mark> 경비 줄이는 방법</a>, <a class=\"api_txt_lines total_tit\" href=\"https://blog.naver.com/danzzak78/223147643438\" onclick=\"return goOtherCR(this, 'a=blg*a.iblg&amp;r=54&amp;i=90000003_0000000000000033F4A2D22E&amp;u='+urlencode(this.href))\" target=\"_blank\">세부 날씨 및 <mark>여행</mark> 준비물 투어까지 완벽 정리</a>, <a class=\"api_txt_lines total_tit\" href=\"https://blog.naver.com/neweunha/223147049253\" onclick=\"return goOtherCR(this, 'a=blg*a.iblg&amp;r=55&amp;i=90000003_0000000000000033F499C125&amp;u='+urlencode(this.href))\" target=\"_blank\">브이로그 카메라 캐논 EOS R10 제주 <mark>여행</mark> 사진 꿀팁</a>, <a class=\"api_txt_lines total_tit\" href=\"https://blog.naver.com/yujin1627/223148882624\" onclick=\"return goOtherCR(this, 'a=blg*a.iblg&amp;r=56&amp;i=90000003_0000000000000033F4B5BAC0&amp;u='+urlencode(this.href))\" target=\"_blank\">캐나다 밴쿠버 로키 패키지 <mark>여행</mark> prologue l 7월 5박 7일 <mark>여행</mark></a>, <a class=\"api_txt_lines total_tit\" href=\"https://blog.naver.com/tnwlsdl702/223148385752\" onclick=\"return goOtherCR(this, 'a=blg*a.iblg&amp;r=57&amp;i=90000003_0000000000000033F4AE25D8&amp;u='+urlencode(this.href))\" target=\"_blank\">다낭 자유<mark>여행</mark> 다낭명소 핑크성당 위치,시간</a>, <a class=\"api_txt_lines total_tit\" href=\"https://blog.naver.com/mungyeongsi/223141034198\" onclick=\"return goOtherCR(this, 'a=blg*a.iblg&amp;r=58&amp;i=90000003_0000000000000033F43DF8D6&amp;u='+urlencode(this.href))\" target=\"_blank\">문경 <mark>여행</mark> , 시원한 여름풍경 '영강 &amp; 구곡길' 산책</a>, <a class=\"api_txt_lines total_tit\" href=\"https://blog.naver.com/rdal89/223144559978\" onclick=\"return goOtherCR(this, 'a=blg*a.iblg&amp;r=59&amp;i=90000003_0000000000000033F473C56A&amp;u='+urlencode(this.href))\" target=\"_blank\">예산 가볼만한곳 충남 <mark>여행</mark> 코스 5곳</a>, <a class=\"api_txt_lines total_tit\" href=\"https://blog.naver.com/pinegn/223146582470\" onclick=\"return goOtherCR(this, 'a=blg*a.iblg&amp;r=60&amp;i=90000003_0000000000000033F492A1C6&amp;u='+urlencode(this.href))\" target=\"_blank\">강원도 강릉 <mark>여행</mark>코스 사근진해중공원 전망대</a>]\n",
      "0 싱가포르 여행 비용 ! 경비 아끼는 팁은 덤\n",
      "1 사이판 골프여행 코랄오션 골프장 후기\n",
      "2 태국 푸켓 여행 동남아 여행지 추천\n",
      "3 포르투갈 리스본 & 포르투 여행 알차게 다녀온 2주\n",
      "4 사이판 여행 3박4일 자유여행 일정 날씨\n",
      "5 다낭 가족여행 코스 다낭 렌트카 레드투어 예약 후기\n",
      "6 이탈리아 패키지여행 베네치아 관광 후기 & 볼거리\n",
      "7 친구랑 유럽자유여행 중 비엔나 여행!(벨베데레 궁전)\n",
      "8 필리핀 세부패키지 여행 현지여행사 가이드맨 후기!\n",
      "9 호이안 여행 꼭 가봐야할 4장소 알려드림\n",
      "10 일본 오사카 혼자 여행 준비 돈단위 엔화 환전\n",
      "11 다낭 렌트카 가족 여행 코스 가볼만한곳 추천\n",
      "12 베트남 나트랑 자유여행 후기 공항픽업 팁\n",
      "13 세부 3박4일 패키지 여행 단독투어 일정과 후기\n",
      "14 2030끼리 전용차량 타고 떠나는 유럽패키지여행 후기!\n",
      "15 제주 여행 코스 핫플 제주도 관광지\n",
      "16 유럽여행 또래들과 함께한 유럽세미패키지\n",
      "17 보라카이 자유 여행 꼭 가야하는 명소 디몰\n",
      "18 흐려도 좋아, 통영여행 맨발의 <나폴리농원>\n",
      "19 태국 푸켓 항공권 직항 : 대한항공 타고 끄라비 여행\n",
      "20 몽골 여행 - 고비사막 6박 7일 일정 및 견적\n",
      "21 꼭 챙겨야하는 미국 여행 준비물!(+ 할인정보)\n",
      "22 보홀 자유여행 공항픽업 숙소까지 한번에 OK\n",
      "23 국내 기차 여행 추천 남도해양열차 전라선 이용 후기\n",
      "24 필리핀 세부 여행 중 우기 날씨 옷차림 준비물\n",
      "25 다낭 골프장 호이안 리조트에서 베트남 자유여행으로\n",
      "26 베트남 여행 준비물 7월 8월 푸꾸옥 날씨 우기 여행 일정\n",
      "27 동강 펜션 리버스타 영월 가족여행 숙소 후기\n",
      "28 서유럽여행 패키지였지만 런던과 파리에선 자유롭게\n",
      "29 괌 PIC 리조트 괌가족여행 추천 숙소 골드카드\n",
      "30 보홀 알로나비치의 밤과 낮 여행 즐길 거리\n",
      "31 2박3일 일본여행 추천 지역\n",
      "32 바르셀로나 여행 여름 코스 가우디투어 날씨\n",
      "33 충남 가볼만한곳 서천 여행 최초 성경전래지기념관\n",
      "34 미국 여행 준비물 일본 110v 다이슨 에어랩\n"
     ]
    }
   ],
   "source": [
    "# 사용자에게 필요한 정보 입력 받기\n",
    "query_txt = input('1. 검색어를 입력하세요. ')\n",
    "cnt = int(input('2. 몇 건의 제목을 크롤링할지 입력하세요. '))\n",
    "page = 1\n",
    "if cnt % 30 == 0 :\n",
    "    page = cnt // 30\n",
    "else :\n",
    "    page = cnt // 30 + 1\n",
    "\n",
    "# 크롬 드라이버를 사용해 웹 브라우저 실행\n",
    "driver = webdriver.Chrome()\n",
    "\n",
    "base_link = f'https://search.naver.com/search.naver?query={query_txt}&nso=&where=blog&sm=tab_opt'\n",
    "driver.get(base_link)\n",
    "\n",
    "# 웹 페이지를 6회 스크롤 다운(End 키 전송) - 네이버 이미지는 총 6회 스크롤 다운이 최대\n",
    "for i in range(page):\n",
    "    time.sleep(1)\n",
    "    driver.find_element(By.XPATH, '//body').send_keys(Keys.END)\n",
    "\n",
    "# 블로그 제목 크롤링\n",
    "from bs4 import BeautifulSoup\n",
    "soup = BeautifulSoup(driver.page_source, 'html.parser')\n",
    "\n",
    "title = soup.find('div', class_='_more_contents_event_base').find_all('a', class_='api_txt_lines total_tit')\n",
    "\n",
    "for idx, i in enumerate(title):\n",
    "    if idx < cnt:\n",
    "        print(idx+1, i.get_text())\n",
    "\n",
    "driver.close()"
   ]
  }
 ],
 "metadata": {
  "kernelspec": {
   "display_name": "Python 3",
   "language": "python",
   "name": "python3"
  },
  "language_info": {
   "codemirror_mode": {
    "name": "ipython",
    "version": 3
   },
   "file_extension": ".py",
   "mimetype": "text/x-python",
   "name": "python",
   "nbconvert_exporter": "python",
   "pygments_lexer": "ipython3",
   "version": "3.11.4"
  },
  "orig_nbformat": 4
 },
 "nbformat": 4,
 "nbformat_minor": 2
}
