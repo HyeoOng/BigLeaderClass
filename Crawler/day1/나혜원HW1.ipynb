{
 "cells": [
  {
   "cell_type": "code",
   "execution_count": 28,
   "metadata": {},
   "outputs": [],
   "source": [
    "from selenium import webdriver\n",
    "from selenium.webdriver.common.by import By\n",
    "import time, os, sys\n",
    "\n",
    "driver = webdriver.Chrome()\n",
    "\n",
    "# 웹사이트 접속하기\n",
    "driver.get('https://korean.visitkorea.or.kr')\n",
    "# driver.maximize_window()\n",
    "driver.set_window_size(1080, 800)\n",
    "time.sleep(3)\n",
    "\n",
    "# 검색 버튼 누르기\n",
    "driver.find_element(By.CLASS_NAME, 'btn_search').click()\n",
    "time.sleep(2)\n",
    "\n",
    "# 검색어 입력하기\n",
    "driver.find_element(By.ID, 'inp_search').send_keys('여름여행')\n",
    "driver.find_element(By.XPATH, '//*[@id=\"gnbCommon\"]/div[1]/div[3]/div/div[1]/a').click()\n",
    "time.sleep(2)\n",
    "\n",
    "\n",
    "# '강원' 지역만 선택하기\n",
    "\n",
    "## 옵션 버튼 클릭\n",
    "driver.find_element(By.XPATH, '//*[@id=\"sorting_options\"]/button[4]/span').click()\n",
    "time.sleep(2)\n",
    "\n",
    "## '#강원' 버튼 클릭\n",
    "driver.find_element(By.XPATH, '//*[@id=\"32\"]/button/span').click()\n",
    "time.sleep(2)\n",
    "\n",
    "## 확인 버튼 클릭\n",
    "driver.find_element(By.CLASS_NAME, 'btn01').click()\n",
    "\n",
    "# 웹 사이트 닫기\n",
    "time.sleep(5)\n",
    "driver.close()"
   ]
  },
  {
   "cell_type": "code",
   "execution_count": null,
   "metadata": {},
   "outputs": [],
   "source": []
  }
 ],
 "metadata": {
  "kernelspec": {
   "display_name": "Python 3",
   "language": "python",
   "name": "python3"
  },
  "language_info": {
   "codemirror_mode": {
    "name": "ipython",
    "version": 3
   },
   "file_extension": ".py",
   "mimetype": "text/x-python",
   "name": "python",
   "nbconvert_exporter": "python",
   "pygments_lexer": "ipython3",
   "version": "3.11.4"
  },
  "orig_nbformat": 4
 },
 "nbformat": 4,
 "nbformat_minor": 2
}
