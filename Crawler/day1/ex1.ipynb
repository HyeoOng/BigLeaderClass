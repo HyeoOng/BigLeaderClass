{
 "cells": [
  {
   "attachments": {},
   "cell_type": "markdown",
   "metadata": {},
   "source": [
    "## day1\n",
    "\n",
    "크롤링과 스크래핑 차이\n",
    "- 크롤링 : 정의되어 있지 않은 데이터 범위에서 내가 원하는 데이터를 인덱싱 즉 뽑아내는 행위\n",
    "- 스크래핑 : 크롤링 하위범주/ 정확한 타겟 존재(페이지, 사이트 등) 내가 원하는 데이터를 구조화해서 (테이블, 배열 등) 가지고 오는 행위\n",
    "\n",
    "앞으로 웹 스크로퍼 만들 예정!\n",
    "\n",
    "- 변수, 함수, 함수 호출이 가장 중요\n",
    "\n"
   ]
  },
  {
   "cell_type": "code",
   "execution_count": 22,
   "metadata": {},
   "outputs": [],
   "source": [
    "# 크롬 드라이버 자동 다운로드 후 크롬 브라우저 제어하기\n",
    "\n",
    "from selenium import webdriver\n",
    "from selenium.webdriver.common.by import By\n",
    "import time, os, sys\n",
    "\n",
    "driver = webdriver.Chrome()  # chrome 제어  # python 3.10 이하에서는 Chrome()안에 인자(chromedriver_autoinstaller.install()) 넣어줘야 함\n",
    "\n",
    "# 웹사이트 접속하기\n",
    "driver.get('https://www.riss.kr')\n",
    "time.sleep(2)\n",
    "\n",
    "# 팝업창 닫기\n",
    "main = driver.window_handles\n",
    "for handle in main:\n",
    "    if handle != main[0]:\n",
    "        driver.switch_to.window(handle)\n",
    "        driver.close()\n",
    "\n",
    "# 원래 창으로 돌아가기\n",
    "driver.switch_to.window(main[0])\n",
    "driver.maximize_window()  # 화면 최대로 만들기\n",
    "\n",
    "# 검색창에 검색어 넣기\n",
    "\n",
    "# 검색어 넣기\n",
    "time.sleep(2)\n",
    "driver.find_element(By.ID, 'query').send_keys('여름여행' + '\\n')\n",
    "\n",
    "# 학위 논문 클릭하기\n",
    "time.sleep(2)\n",
    "driver.find_element(By.LINK_TEXT, '국내학술논문').click()\n",
    "time.sleep(2)\n",
    "driver.find_element(By.XPATH, '//*[@id=\"tabMenu\"]/ul/li/div/ul/li[3]/a/span').click()\n",
    "\n",
    "# 웹사이트 닫기\n",
    "time.sleep(5)\n",
    "driver.close()"
   ]
  },
  {
   "cell_type": "code",
   "execution_count": null,
   "metadata": {},
   "outputs": [],
   "source": [
    "def ts(s):\n",
    "    time.sleep(s)"
   ]
  }
 ],
 "metadata": {
  "kernelspec": {
   "display_name": "Python 3",
   "language": "python",
   "name": "python3"
  },
  "language_info": {
   "codemirror_mode": {
    "name": "ipython",
    "version": 3
   },
   "file_extension": ".py",
   "mimetype": "text/x-python",
   "name": "python",
   "nbconvert_exporter": "python",
   "pygments_lexer": "ipython3",
   "version": "3.11.4"
  },
  "orig_nbformat": 4
 },
 "nbformat": 4,
 "nbformat_minor": 2
}
