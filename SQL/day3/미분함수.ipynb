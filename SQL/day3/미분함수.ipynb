{
 "cells": [
  {
   "cell_type": "code",
   "execution_count": 1,
   "id": "78afde4f-b148-4746-a917-9d808bbf31f3",
   "metadata": {
    "id": "78afde4f-b148-4746-a917-9d808bbf31f3"
   },
   "outputs": [
    {
     "name": "stdout",
     "output_type": "stream",
     "text": [
      "5\n"
     ]
    }
   ],
   "source": [
    "#sympy()는 symbolic mathematics를 위한 python 라이브러리입니다.\n",
    "#sympy()의 symbols를 이용해 x를 기호변수로 바꿀 수 있습니다.\n",
    "from sympy import symbols\n",
    "\n",
    "#def를 사용해서 평균변화율을 함수로 정의합니다.\n",
    "def average(a,b):\n",
    "    m=max(a,b) #변화량을 구하기 위해서 두 수 중 큰 수를 변수 m에 넣습니다.\n",
    "    n=min(a,b) #변화량을 구하기 위해서 두 수 중 작은 수를 변수 n에 넣습니다.\n",
    "    x=symbols('x') #x를 기호변수로 바꾸어 줍니다.\n",
    " \n",
    "    fx = x ** 2\n",
    " \n",
    "    fb=fx.subs(x,m) #fx.subs(변수, 대입값)을 의미합니다. x에 m을 넣어준 것을 fb로 정의합니다.\n",
    "    fa=fx.subs(x,n) #fx.subs(변수, 대입값)을 의미합니다. x에 n을 넣어준 것을 fa로 정의합니다.\n",
    "    \n",
    "    #평균변화를 공식에 대입해서 결과를 구합니다. 분자에 f(x)의 변화값, 분모에 x의 변화값을 넣습니다.\n",
    "    \n",
    "    result=(fb-fa)/(b-a)\n",
    "    return result\n",
    "\n",
    "print(average(1,4))"
   ]
  }
 ],
 "metadata": {
  "colab": {
   "provenance": []
  },
  "kernelspec": {
   "display_name": "Python 3",
   "language": "python",
   "name": "python3"
  },
  "language_info": {
   "codemirror_mode": {
    "name": "ipython",
    "version": 3
   },
   "file_extension": ".py",
   "mimetype": "text/x-python",
   "name": "python",
   "nbconvert_exporter": "python",
   "pygments_lexer": "ipython3",
   "version": "3.8.8"
  }
 },
 "nbformat": 4,
 "nbformat_minor": 5
}
