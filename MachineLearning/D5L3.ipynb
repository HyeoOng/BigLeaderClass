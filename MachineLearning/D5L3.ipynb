{
 "cells": [
  {
   "cell_type": "markdown",
   "metadata": {},
   "source": [
    "주성분 분석"
   ]
  },
  {
   "cell_type": "code",
   "execution_count": 1,
   "metadata": {},
   "outputs": [],
   "source": [
    "import pandas as pd\n",
    "df = pd.read_csv('./data/wine_data.csv')\n",
    "\n",
    "features = ['Alcohol', 'Malic', 'Ash', 'Alcalinity', 'Magesium', 'Phenols',\n",
    "       'Flavanoids', 'Nonflavanoids', 'Proanthocyanins', 'Color', 'Hue',\n",
    "       'Dilution', 'Proline']\n",
    "\n",
    "X = df[features]\n",
    "y = df['class']\n",
    "\n",
    "# 트레이닝/테스트 데이터 분할\n",
    "from sklearn.model_selection import train_test_split\n",
    "X_tn, X_te, y_tn, y_te = train_test_split(X, y, random_state=0)\n",
    "\n",
    "# 데이터 표준화\n",
    "from sklearn.preprocessing import StandardScaler\n",
    "std_scale = StandardScaler()\n",
    "std_scale.fit(X_tn)\n",
    "X_tn_std = std_scale.transform(X_tn)\n",
    "X_te_std = std_scale.transform(X_te)"
   ]
  },
  {
   "cell_type": "code",
   "execution_count": 2,
   "metadata": {},
   "outputs": [],
   "source": [
    "# PCA \n",
    "from sklearn.decomposition import PCA\n",
    "pca = PCA(n_components=2)\n",
    "pca.fit(X_tn_std)\n",
    "X_tn_pca = pca.transform(X_tn_std)\n",
    "X_te_pca = pca.transform(X_te_std)"
   ]
  },
  {
   "cell_type": "code",
   "execution_count": 3,
   "metadata": {},
   "outputs": [
    {
     "name": "stdout",
     "output_type": "stream",
     "text": [
      "(133, 13)\n",
      "(133, 2)\n"
     ]
    }
   ],
   "source": [
    "# 차원 축소 확인\n",
    "print(X_tn_std.shape)\n",
    "print(X_tn_pca.shape)"
   ]
  },
  {
   "cell_type": "code",
   "execution_count": 4,
   "metadata": {},
   "outputs": [
    {
     "name": "stdout",
     "output_type": "stream",
     "text": [
      "[25.3887705  18.00040359]\n"
     ]
    }
   ],
   "source": [
    "# 고유값 확인\n",
    "print(pca.singular_values_)"
   ]
  },
  {
   "cell_type": "code",
   "execution_count": 5,
   "metadata": {},
   "outputs": [
    {
     "name": "stdout",
     "output_type": "stream",
     "text": [
      "[[ 0.14285263 -0.24443441 -0.01392104 -0.24517361  0.1315099   0.38923734\n",
      "   0.42471766 -0.30128613  0.30523465 -0.10462106  0.30267149  0.37266737\n",
      "   0.29150867]\n",
      " [-0.50194071 -0.23015832 -0.31022311  0.03872248 -0.23858952 -0.09688729\n",
      "  -0.01451474 -0.03693926 -0.0584635  -0.54240798  0.28168064  0.16944035\n",
      "  -0.35182263]]\n"
     ]
    }
   ],
   "source": [
    "# 고유벡터 확인\n",
    "print(pca.components_)"
   ]
  },
  {
   "cell_type": "code",
   "execution_count": 6,
   "metadata": {},
   "outputs": [
    {
     "name": "stdout",
     "output_type": "stream",
     "text": [
      "[4.88325506 2.45465553]\n"
     ]
    }
   ],
   "source": [
    "# 설명된 분산\n",
    "print(pca.explained_variance_)"
   ]
  },
  {
   "cell_type": "code",
   "execution_count": 7,
   "metadata": {},
   "outputs": [
    {
     "name": "stdout",
     "output_type": "stream",
     "text": [
      "[0.37281068 0.18739996]\n"
     ]
    }
   ],
   "source": [
    "# 설명된 분산 비율\n",
    "print(pca.explained_variance_ratio_)"
   ]
  },
  {
   "cell_type": "code",
   "execution_count": 10,
   "metadata": {},
   "outputs": [
    {
     "data": {
      "text/html": [
       "<div>\n",
       "<style scoped>\n",
       "    .dataframe tbody tr th:only-of-type {\n",
       "        vertical-align: middle;\n",
       "    }\n",
       "\n",
       "    .dataframe tbody tr th {\n",
       "        vertical-align: top;\n",
       "    }\n",
       "\n",
       "    .dataframe thead th {\n",
       "        text-align: right;\n",
       "    }\n",
       "</style>\n",
       "<table border=\"1\" class=\"dataframe\">\n",
       "  <thead>\n",
       "    <tr style=\"text-align: right;\">\n",
       "      <th></th>\n",
       "      <th>pca_comp1</th>\n",
       "      <th>pca_comp2</th>\n",
       "      <th>target</th>\n",
       "    </tr>\n",
       "  </thead>\n",
       "  <tbody>\n",
       "    <tr>\n",
       "      <th>0</th>\n",
       "      <td>2.128500</td>\n",
       "      <td>-1.019732</td>\n",
       "      <td>0</td>\n",
       "    </tr>\n",
       "    <tr>\n",
       "      <th>1</th>\n",
       "      <td>-2.948125</td>\n",
       "      <td>-0.254807</td>\n",
       "      <td>2</td>\n",
       "    </tr>\n",
       "    <tr>\n",
       "      <th>2</th>\n",
       "      <td>1.919795</td>\n",
       "      <td>1.337012</td>\n",
       "      <td>1</td>\n",
       "    </tr>\n",
       "    <tr>\n",
       "      <th>3</th>\n",
       "      <td>-2.133376</td>\n",
       "      <td>-0.945897</td>\n",
       "      <td>2</td>\n",
       "    </tr>\n",
       "    <tr>\n",
       "      <th>4</th>\n",
       "      <td>2.236803</td>\n",
       "      <td>-2.269839</td>\n",
       "      <td>0</td>\n",
       "    </tr>\n",
       "  </tbody>\n",
       "</table>\n",
       "</div>"
      ],
      "text/plain": [
       "   pca_comp1  pca_comp2  target\n",
       "0   2.128500  -1.019732       0\n",
       "1  -2.948125  -0.254807       2\n",
       "2   1.919795   1.337012       1\n",
       "3  -2.133376  -0.945897       2\n",
       "4   2.236803  -2.269839       0"
      ]
     },
     "execution_count": 10,
     "metadata": {},
     "output_type": "execute_result"
    }
   ],
   "source": [
    "# 데이터프레임 생성\n",
    "pca_columns = ['pca_comp1', 'pca_comp2']\n",
    "X_tn_pca_df = pd.DataFrame(X_tn_pca, columns=pca_columns)\n",
    "y_tn1 = y_tn.reset_index(drop=True)\n",
    "X_tn_pca_df['target'] = y_tn1\n",
    "X_tn_pca_df.head()"
   ]
  },
  {
   "cell_type": "markdown",
   "metadata": {},
   "source": [
    "LDA"
   ]
  },
  {
   "cell_type": "code",
   "execution_count": 13,
   "metadata": {},
   "outputs": [],
   "source": [
    "# LDA\n",
    "from sklearn.discriminant_analysis import LinearDiscriminantAnalysis\n",
    "lda = LinearDiscriminantAnalysis() \n",
    "lda.fit(X_tn_std, y_tn)\n",
    "X_tn_lda = lda.transform(X_tn_std)\n",
    "X_te_lda = lda.transform(X_te_std)"
   ]
  },
  {
   "cell_type": "code",
   "execution_count": 20,
   "metadata": {},
   "outputs": [
    {
     "name": "stdout",
     "output_type": "stream",
     "text": [
      "(133, 13)\n",
      "(133, 2)\n"
     ]
    }
   ],
   "source": [
    "# 차원축소 전후 데이터 차원 비교\n",
    "print(X_tn_std.shape)\n",
    "print(X_tn_lda.shape)"
   ]
  },
  {
   "cell_type": "code",
   "execution_count": 21,
   "metadata": {},
   "outputs": [
    {
     "name": "stdout",
     "output_type": "stream",
     "text": [
      "[-10.43672342  -4.06646567 -11.86481563]\n"
     ]
    }
   ],
   "source": [
    "# LDA 상수항\n",
    "print(lda.intercept_)"
   ]
  },
  {
   "cell_type": "code",
   "execution_count": 22,
   "metadata": {},
   "outputs": [
    {
     "name": "stdout",
     "output_type": "stream",
     "text": [
      "[[ 2.08067239e+00  9.35053476e-03  1.21559585e+00 -2.93109927e+00\n",
      "   9.76489959e-02 -2.70947375e+00  8.33641080e+00  9.59274709e-01\n",
      "  -1.31511222e+00 -1.57641572e+00  6.01209963e-02  4.16138211e+00\n",
      "   4.94293451e+00]\n",
      " [-1.50898343e+00 -1.03364308e+00 -1.42513305e+00  1.31234341e+00\n",
      "  -8.24060552e-03  3.10104765e-01  4.63726906e-01  1.19450044e-01\n",
      "   7.45392589e-01 -1.48434856e+00  8.54448096e-01  1.72053276e-01\n",
      "  -2.18465736e+00]\n",
      " [-3.50493538e-01  1.28200202e+00  4.74650776e-01  1.51050245e+00\n",
      "  -9.46719137e-02  2.52505333e+00 -9.54130024e+00 -1.18053287e+00\n",
      "   4.82004904e-01  3.55008261e+00 -1.13269019e+00 -4.68855236e+00\n",
      "  -2.58283290e+00]]\n"
     ]
    }
   ],
   "source": [
    "# LDA 가중 벡터\n",
    "print(lda.coef_)"
   ]
  },
  {
   "cell_type": "code",
   "execution_count": 23,
   "metadata": {},
   "outputs": [
    {
     "data": {
      "text/html": [
       "<div>\n",
       "<style scoped>\n",
       "    .dataframe tbody tr th:only-of-type {\n",
       "        vertical-align: middle;\n",
       "    }\n",
       "\n",
       "    .dataframe tbody tr th {\n",
       "        vertical-align: top;\n",
       "    }\n",
       "\n",
       "    .dataframe thead th {\n",
       "        text-align: right;\n",
       "    }\n",
       "</style>\n",
       "<table border=\"1\" class=\"dataframe\">\n",
       "  <thead>\n",
       "    <tr style=\"text-align: right;\">\n",
       "      <th></th>\n",
       "      <th>lda_comp1</th>\n",
       "      <th>lda_comp2</th>\n",
       "      <th>target</th>\n",
       "    </tr>\n",
       "  </thead>\n",
       "  <tbody>\n",
       "    <tr>\n",
       "      <th>0</th>\n",
       "      <td>-3.757230</td>\n",
       "      <td>1.782242</td>\n",
       "      <td>0</td>\n",
       "    </tr>\n",
       "    <tr>\n",
       "      <th>1</th>\n",
       "      <td>3.717800</td>\n",
       "      <td>0.855757</td>\n",
       "      <td>2</td>\n",
       "    </tr>\n",
       "    <tr>\n",
       "      <th>2</th>\n",
       "      <td>-0.044172</td>\n",
       "      <td>-2.022490</td>\n",
       "      <td>1</td>\n",
       "    </tr>\n",
       "    <tr>\n",
       "      <th>3</th>\n",
       "      <td>3.502951</td>\n",
       "      <td>1.999101</td>\n",
       "      <td>2</td>\n",
       "    </tr>\n",
       "    <tr>\n",
       "      <th>4</th>\n",
       "      <td>-3.875662</td>\n",
       "      <td>2.650775</td>\n",
       "      <td>0</td>\n",
       "    </tr>\n",
       "  </tbody>\n",
       "</table>\n",
       "</div>"
      ],
      "text/plain": [
       "   lda_comp1  lda_comp2  target\n",
       "0  -3.757230   1.782242       0\n",
       "1   3.717800   0.855757       2\n",
       "2  -0.044172  -2.022490       1\n",
       "3   3.502951   1.999101       2\n",
       "4  -3.875662   2.650775       0"
      ]
     },
     "execution_count": 23,
     "metadata": {},
     "output_type": "execute_result"
    }
   ],
   "source": [
    "# LDA 데이터 셋\n",
    "lda_columns = ['lda_comp1', 'lda_comp2']\n",
    "X_tn_lda_df = pd.DataFrame(X_tn_lda, columns=lda_columns)\n",
    "X_tn_lda_df['target'] = y_tn.reset_index(drop=True)\n",
    "X_tn_lda_df.head()"
   ]
  },
  {
   "cell_type": "code",
   "execution_count": 14,
   "metadata": {},
   "outputs": [],
   "source": [
    "from sklearn.ensemble import RandomForestClassifier\n",
    "# 학습\n",
    "clf_rf_lda = RandomForestClassifier(max_depth=2, random_state=0)\n",
    "clf_rf_lda.fit(X_tn_lda, y_tn)\n",
    "\n",
    "# 예측 \n",
    "pred_rf_lda = clf_rf_lda.predict(X_te_lda)"
   ]
  },
  {
   "cell_type": "code",
   "execution_count": 15,
   "metadata": {},
   "outputs": [
    {
     "name": "stdout",
     "output_type": "stream",
     "text": [
      "0.9777777777777777\n"
     ]
    }
   ],
   "source": [
    "# LDA 적용 후 정확도\n",
    "from sklearn.metrics import accuracy_score\n",
    "accuracy_lda = accuracy_score(y_te, pred_rf_lda)\n",
    "print(accuracy_lda)"
   ]
  },
  {
   "cell_type": "code",
   "execution_count": 16,
   "metadata": {},
   "outputs": [
    {
     "name": "stdout",
     "output_type": "stream",
     "text": [
      "0.9555555555555556\n"
     ]
    }
   ],
   "source": [
    "clf_rf = RandomForestClassifier(max_depth=2, random_state=0)\n",
    "clf_rf.fit(X_tn_std, y_tn)\n",
    "\n",
    "pred_rf = clf_rf.predict(X_te_std)\n",
    "acc = accuracy_score(y_te, pred_rf)\n",
    "print(acc)"
   ]
  },
  {
   "cell_type": "code",
   "execution_count": null,
   "metadata": {},
   "outputs": [],
   "source": []
  }
 ],
 "metadata": {
  "kernelspec": {
   "display_name": "py3_10_4",
   "language": "python",
   "name": "python3"
  },
  "language_info": {
   "codemirror_mode": {
    "name": "ipython",
    "version": 3
   },
   "file_extension": ".py",
   "mimetype": "text/x-python",
   "name": "python",
   "nbconvert_exporter": "python",
   "pygments_lexer": "ipython3",
   "version": "3.10.4"
  },
  "orig_nbformat": 4
 },
 "nbformat": 4,
 "nbformat_minor": 2
}
